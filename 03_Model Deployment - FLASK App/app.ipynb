{
 "cells": [
  {
   "cell_type": "code",
   "execution_count": 137,
   "id": "6887269b-0ff5-48bd-b7eb-85885fbd63ee",
   "metadata": {},
   "outputs": [],
   "source": [
    "import numpy as np \n",
    "import os\n",
    "\n",
    "import cv2\n",
    "import matplotlib.pyplot as plt\n",
    "\n",
    "from sklearn.model_selection import train_test_split\n",
    "\n",
    "from keras.models import Sequential\n",
    "from keras.layers import Conv2D, MaxPool2D, Flatten, Dense\n",
    "\n",
    "from keras.preprocessing.image import ImageDataGenerator\n",
    "\n",
    "from keras.callbacks import ModelCheckpoint\n",
    "import tensorflow as tf\n",
    "from tensorflow.keras.applications.vgg16 import VGG16\n",
    "from tensorflow.keras.models import Model \n",
    "from tensorflow.keras.layers import GlobalAveragePooling2D, Input, Dense, concatenate\n",
    "from tensorflow.keras.optimizers import Adam\n",
    "from tensorflow.keras.losses import MeanSquaredError\n",
    "from tensorflow.keras.callbacks import ModelCheckpoint\n",
    "\n",
    "from flask import Flask, render_template, request, redirect, url_for\n",
    "import json\n",
    "\n",
    "from selenium import webdriver\n",
    "from selenium.webdriver.common.by import By\n",
    "from PIL import Image\n",
    "import io\n",
    "import numpy as np"
   ]
  },
  {
   "cell_type": "code",
   "execution_count": 138,
   "id": "b6cad9c2-4f53-4fa5-8257-c0da30969644",
   "metadata": {},
   "outputs": [],
   "source": [
    "IMG_WIDTH = 224\n",
    "IMG_HEIGHT = 224\n",
    "NUM_CHANNELS = 3   \n",
    "NUM_CLASSES = 2"
   ]
  },
  {
   "cell_type": "markdown",
   "id": "95ce8007-3159-4328-a316-190abd919b93",
   "metadata": {},
   "source": [
    "---\n",
    "### MODEL LAYERS & WEIGHTS LOADING "
   ]
  },
  {
   "cell_type": "code",
   "execution_count": 139,
   "id": "d3ece3c2-7831-4467-b78d-8de8644e0bd1",
   "metadata": {},
   "outputs": [],
   "source": [
    "base_model_mobile = VGG16(weights='imagenet', include_top=False, input_shape=(224, 224, 3))\n",
    "base_model_desktop = VGG16(weights='imagenet', include_top=False, input_shape=(224, 224, 3))\n",
    "\n",
    "x_mobile = base_model_mobile.output\n",
    "x_mobile = GlobalAveragePooling2D()(x_mobile)\n",
    "\n",
    "x_desktop = base_model_desktop.output\n",
    "x_desktop = GlobalAveragePooling2D()(x_desktop)\n",
    "\n",
    "# Add a fully-connected layer\n",
    "x_mobile = Dense(1024, activation='relu')(x_mobile)\n",
    "x_desktop = Dense(1024, activation='relu')(x_desktop)\n",
    "\n",
    "# Add a logistic layer -- we have 1 class\n",
    "predictions_mobile = Dense(1, activation='sigmoid')(x_mobile)\n",
    "predictions_desktop = Dense(1, activation='sigmoid')(x_desktop)\n",
    "\n",
    "model_mobile = Model(inputs=base_model_mobile.input, outputs=predictions_mobile)\n",
    "model_desktop = Model(inputs=base_model_desktop.input, outputs=predictions_desktop)\n",
    "\n",
    "\n",
    "for layer in base_model_mobile.layers:\n",
    "    layer.trainable = False\n",
    "for layer in base_model_desktop.layers:\n",
    "    layer.trainable = False\n",
    "\n",
    "# Compiling models and adding Optimizers\n",
    "\n",
    "model_mobile.compile(optimizer=Adam(learning_rate=0.001), loss=MeanSquaredError())\n",
    "model_desktop.compile(optimizer=Adam(learning_rate=0.001), loss=MeanSquaredError())"
   ]
  },
  {
   "cell_type": "markdown",
   "id": "813954e1-b297-4051-aea8-bfb0d96fc6a8",
   "metadata": {},
   "source": [
    "---\n",
    "### Loading trained weights:"
   ]
  },
  {
   "cell_type": "code",
   "execution_count": 140,
   "id": "3f335163-5d1d-4274-8f58-4ba0c86ae44e",
   "metadata": {},
   "outputs": [],
   "source": [
    "model_mobile.load_weights(\"best_weights_MOBILE.h5\")\n",
    "model_desktop.load_weights(\"best_weights_DESKTOP.h5\")"
   ]
  },
  {
   "cell_type": "markdown",
   "id": "c97546c7-f618-4f34-99fa-432e05224d75",
   "metadata": {},
   "source": [
    "---"
   ]
  },
  {
   "cell_type": "code",
   "execution_count": 141,
   "id": "7ff42687-0655-4c5d-b712-5a767b36d7e2",
   "metadata": {},
   "outputs": [],
   "source": [
    "\n",
    "def load_data(direc):\n",
    "    imgs = []\n",
    "    for file in os.listdir(direc):\n",
    "        path = os.path.join(direc, file)\n",
    "        img = cv2.imread(path)\n",
    "        img = cv2.resize(img, (IMG_WIDTH, IMG_HEIGHT)) ###############\n",
    "        imgs.append(img)\n",
    "    return imgs\n"
   ]
  },
  {
   "cell_type": "code",
   "execution_count": 142,
   "id": "65e7700c-34f9-4478-97c1-7fd791c66d2d",
   "metadata": {},
   "outputs": [],
   "source": [
    "def preprocess_data(img_data):\n",
    "    img_data = np.array(img_data)\n",
    "    img_data = img_data.astype('float32')\n",
    "    img_data /= 255.0\n",
    "    return img_data"
   ]
  },
  {
   "cell_type": "code",
   "execution_count": 143,
   "id": "94d9ef48-d744-43d9-86d6-2d268ed40f04",
   "metadata": {},
   "outputs": [],
   "source": [
    "def prediction(img):\n",
    "    img = np.expand_dims(img, axis=0)\n",
    "    # conv_output = model_mobile(img, training=False)\n",
    "    predicted = model_mobile.predict(img)\n",
    "\n",
    "    return predicted"
   ]
  },
  {
   "cell_type": "code",
   "execution_count": 144,
   "id": "18b64b2c-fc57-4cb0-bf0c-ba4ed69a8c93",
   "metadata": {},
   "outputs": [],
   "source": [
    "def fetch_test(url):\n",
    "    opt = webdriver.ChromeOptions()\n",
    "\n",
    "    # Initialize Selenium Driver\n",
    "    driver = webdriver.Chrome(options=opt)\n",
    "\n",
    "    # Open the URL\n",
    "    driver.get(url)\n",
    "\n",
    "    # Take screenshot and get the binary data\n",
    "    # screenshot = driver.get_screenshot_as_png()\n",
    "    screenShot = driver.save_screenshot(\"tempImage.png\")\n",
    "    # Close the driver\n",
    "    driver.quit()\n",
    "\n",
    "    # img_np = np.frombuffer(screenshot, np.uint8)\n",
    "    \n",
    "    \n",
    "    # Use BytesIO to create a file-like object in memory\n",
    "    # img_bytes = screenshot.to_image\n",
    "    # screenshot_stream = io.BytesIO(screenshot)\n",
    "    # print(np.frombuffer(screenshot_stream, dtype=)\n",
    "    # print(np.frombuffer(screenshot_stream, dtype=np.float32))\n",
    "\n",
    "    # Open the stream as an image with PIL\n",
    "    # image = Image.open(screenshot_stream)\n",
    "\n",
    "    # img = cv2.imdecode(img_np, cv2.IMREAD_COLOR)\n",
    "    img = cv2.imread(\"tempImage.png\")\n",
    "    img = cv2.resize(img, (IMG_WIDTH, IMG_HEIGHT))\n",
    "    img = preprocess_data(img)\n",
    "    # print(img)\n",
    "    # plt.imshow(img)\n",
    "    \n",
    "    # Convert image to NumPy array\n",
    "    # image_np = np.array(image)\n",
    "\n",
    "    # image_list = image_np.tolist()\n",
    "    return img\n",
    "    # return image_np"
   ]
  },
  {
   "cell_type": "code",
   "execution_count": 145,
   "id": "de405a6c-a003-4ee7-865f-4d0821ca3dfb",
   "metadata": {},
   "outputs": [],
   "source": [
    "# fetch_test(\"https://www.bajajfinserv.in/\")"
   ]
  },
  {
   "cell_type": "markdown",
   "id": "b972e023-3a00-48bf-97af-f8b6607df797",
   "metadata": {},
   "source": [
    "---\n",
    "\n",
    "## Flask Application:"
   ]
  },
  {
   "cell_type": "code",
   "execution_count": 146,
   "id": "e00a92d6-e02f-465c-ac3d-8194a7d52462",
   "metadata": {},
   "outputs": [],
   "source": [
    "\n",
    "app = Flask(__name__)\n",
    "\n",
    "\n",
    "\n",
    "@app.route('/')\n",
    "def hello():\n",
    "    print('http://127.0.0.1:5000/')\n",
    "    return \"server running...\"\n",
    "\n",
    "\n",
    "@app.route('/ping')\n",
    "def pingPong():\n",
    "    data = {'mg': \"pong\"}\n",
    "    return data  \n",
    "    \n",
    "@app.route('/test', methods=['POST'])\n",
    "def testing():\n",
    "    data = json.loads(request.get_data())\n",
    "    print(data, '\\n data recieved... pinged \\n')\n",
    "    return json.dumps({'message' : 0, 'hey': 1})\n",
    "\n",
    "@app.route('/ss', methods=['POST'])\n",
    "def ss():\n",
    "    byte_encode = request.get_data()\n",
    "    print(byte_encode)\n",
    "    url = byte_encode.decode('utf-8')\n",
    "    print(url)\n",
    "    img_preprocessed_data = fetch_test(url)\n",
    "    # print(list(data.shape))\n",
    "    \n",
    "\n",
    "    final_ui_rating = prediction(img_preprocessed_data)\n",
    "    final_ui_rating.array2string()\n",
    "    print(final_ui_rating)\n",
    "       \n",
    "    return jsonify({\"rating\":final_ui_rating})"
   ]
  },
  {
   "cell_type": "code",
   "execution_count": 147,
   "id": "258cf4e4-b332-48a1-8ac7-c66de26ef485",
   "metadata": {},
   "outputs": [
    {
     "name": "stdout",
     "output_type": "stream",
     "text": [
      " * Serving Flask app '__main__'\n",
      " * Debug mode: off\n"
     ]
    },
    {
     "name": "stderr",
     "output_type": "stream",
     "text": [
      "WARNING: This is a development server. Do not use it in a production deployment. Use a production WSGI server instead.\n",
      " * Running on http://127.0.0.1:5000\n",
      "Press CTRL+C to quit\n"
     ]
    },
    {
     "name": "stdout",
     "output_type": "stream",
     "text": [
      "b'https://www.bajajfinserv.in/'\n",
      "https://www.bajajfinserv.in/\n",
      "1/1 [==============================] - 0s 125ms/step\n"
     ]
    },
    {
     "name": "stderr",
     "output_type": "stream",
     "text": [
      "[2023-07-22 02:11:45,120] ERROR in app: Exception on /ss [POST]\n",
      "Traceback (most recent call last):\n",
      "  File \"C:\\Users\\91800\\AppData\\Roaming\\Python\\Python310\\site-packages\\flask\\app.py\", line 2190, in wsgi_app\n",
      "    response = self.full_dispatch_request()\n",
      "  File \"C:\\Users\\91800\\AppData\\Roaming\\Python\\Python310\\site-packages\\flask\\app.py\", line 1486, in full_dispatch_request\n",
      "    rv = self.handle_user_exception(e)\n",
      "  File \"C:\\Users\\91800\\AppData\\Roaming\\Python\\Python310\\site-packages\\flask\\app.py\", line 1484, in full_dispatch_request\n",
      "    rv = self.dispatch_request()\n",
      "  File \"C:\\Users\\91800\\AppData\\Roaming\\Python\\Python310\\site-packages\\flask\\app.py\", line 1469, in dispatch_request\n",
      "    return self.ensure_sync(self.view_functions[rule.endpoint])(**view_args)\n",
      "  File \"C:\\Users\\91800\\AppData\\Local\\Temp\\ipykernel_4588\\1780311477.py\", line 33, in ss\n",
      "    final_ui_rating.array2string()\n",
      "AttributeError: 'numpy.ndarray' object has no attribute 'array2string'\n",
      "127.0.0.1 - - [22/Jul/2023 02:11:45] \"POST /ss HTTP/1.1\" 500 -\n"
     ]
    },
    {
     "name": "stdout",
     "output_type": "stream",
     "text": [
      "b''\n",
      "\n"
     ]
    },
    {
     "name": "stderr",
     "output_type": "stream",
     "text": [
      "[2023-07-22 02:18:10,003] ERROR in app: Exception on /ss [POST]\n",
      "Traceback (most recent call last):\n",
      "  File \"C:\\Users\\91800\\AppData\\Roaming\\Python\\Python310\\site-packages\\flask\\app.py\", line 2190, in wsgi_app\n",
      "    response = self.full_dispatch_request()\n",
      "  File \"C:\\Users\\91800\\AppData\\Roaming\\Python\\Python310\\site-packages\\flask\\app.py\", line 1486, in full_dispatch_request\n",
      "    rv = self.handle_user_exception(e)\n",
      "  File \"C:\\Users\\91800\\AppData\\Roaming\\Python\\Python310\\site-packages\\flask\\app.py\", line 1484, in full_dispatch_request\n",
      "    rv = self.dispatch_request()\n",
      "  File \"C:\\Users\\91800\\AppData\\Roaming\\Python\\Python310\\site-packages\\flask\\app.py\", line 1469, in dispatch_request\n",
      "    return self.ensure_sync(self.view_functions[rule.endpoint])(**view_args)\n",
      "  File \"C:\\Users\\91800\\AppData\\Local\\Temp\\ipykernel_4588\\1780311477.py\", line 28, in ss\n",
      "    img_preprocessed_data = fetch_test(url)\n",
      "  File \"C:\\Users\\91800\\AppData\\Local\\Temp\\ipykernel_4588\\1666308432.py\", line 8, in fetch_test\n",
      "    driver.get(url)\n",
      "  File \"C:\\Users\\91800\\AppData\\Roaming\\Python\\Python310\\site-packages\\selenium\\webdriver\\remote\\webdriver.py\", line 355, in get\n",
      "    self.execute(Command.GET, {\"url\": url})\n",
      "  File \"C:\\Users\\91800\\AppData\\Roaming\\Python\\Python310\\site-packages\\selenium\\webdriver\\remote\\webdriver.py\", line 346, in execute\n",
      "    self.error_handler.check_response(response)\n",
      "  File \"C:\\Users\\91800\\AppData\\Roaming\\Python\\Python310\\site-packages\\selenium\\webdriver\\remote\\errorhandler.py\", line 245, in check_response\n",
      "    raise exception_class(message, screen, stacktrace)\n",
      "selenium.common.exceptions.InvalidArgumentException: Message: invalid argument\n",
      "  (Session info: chrome=115.0.5790.102)\n",
      "Stacktrace:\n",
      "Backtrace:\n",
      "\tGetHandleVerifier [0x00B4A813+48355]\n",
      "\t(No symbol) [0x00ADC4B1]\n",
      "\t(No symbol) [0x009E5220]\n",
      "\t(No symbol) [0x009D88E2]\n",
      "\t(No symbol) [0x009D7138]\n",
      "\t(No symbol) [0x009D7688]\n",
      "\t(No symbol) [0x009E6B52]\n",
      "\t(No symbol) [0x00A3CF01]\n",
      "\t(No symbol) [0x00A2A73C]\n",
      "\t(No symbol) [0x00A3C922]\n",
      "\t(No symbol) [0x00A2A536]\n",
      "\t(No symbol) [0x00A082DC]\n",
      "\t(No symbol) [0x00A093DD]\n",
      "\tGetHandleVerifier [0x00DAAABD+2539405]\n",
      "\tGetHandleVerifier [0x00DEA78F+2800735]\n",
      "\tGetHandleVerifier [0x00DE456C+2775612]\n",
      "\tGetHandleVerifier [0x00BD51E0+616112]\n",
      "\t(No symbol) [0x00AE5F8C]\n",
      "\t(No symbol) [0x00AE2328]\n",
      "\t(No symbol) [0x00AE240B]\n",
      "\t(No symbol) [0x00AD4FF7]\n",
      "\tBaseThreadInitThunk [0x767C7D59+25]\n",
      "\tRtlInitializeExceptionChain [0x7729B79B+107]\n",
      "\tRtlClearBits [0x7729B71F+191]\n",
      "\n",
      "127.0.0.1 - - [22/Jul/2023 02:18:10] \"POST /ss HTTP/1.1\" 500 -\n"
     ]
    },
    {
     "name": "stdout",
     "output_type": "stream",
     "text": [
      "b'https://chat.openai.com/'\n",
      "https://chat.openai.com/\n",
      "1/1 [==============================] - 0s 243ms/step\n"
     ]
    },
    {
     "name": "stderr",
     "output_type": "stream",
     "text": [
      "[2023-07-22 02:18:41,320] ERROR in app: Exception on /ss [POST]\n",
      "Traceback (most recent call last):\n",
      "  File \"C:\\Users\\91800\\AppData\\Roaming\\Python\\Python310\\site-packages\\flask\\app.py\", line 2190, in wsgi_app\n",
      "    response = self.full_dispatch_request()\n",
      "  File \"C:\\Users\\91800\\AppData\\Roaming\\Python\\Python310\\site-packages\\flask\\app.py\", line 1486, in full_dispatch_request\n",
      "    rv = self.handle_user_exception(e)\n",
      "  File \"C:\\Users\\91800\\AppData\\Roaming\\Python\\Python310\\site-packages\\flask\\app.py\", line 1484, in full_dispatch_request\n",
      "    rv = self.dispatch_request()\n",
      "  File \"C:\\Users\\91800\\AppData\\Roaming\\Python\\Python310\\site-packages\\flask\\app.py\", line 1469, in dispatch_request\n",
      "    return self.ensure_sync(self.view_functions[rule.endpoint])(**view_args)\n",
      "  File \"C:\\Users\\91800\\AppData\\Local\\Temp\\ipykernel_4588\\1780311477.py\", line 33, in ss\n",
      "    final_ui_rating.array2string()\n",
      "AttributeError: 'numpy.ndarray' object has no attribute 'array2string'\n",
      "127.0.0.1 - - [22/Jul/2023 02:18:41] \"POST /ss HTTP/1.1\" 500 -\n",
      "127.0.0.1 - - [22/Jul/2023 02:40:09] \"POST / HTTP/1.1\" 405 -\n",
      "127.0.0.1 - - [22/Jul/2023 02:40:37] \"POST /test-it-up HTTP/1.1\" 404 -\n",
      "127.0.0.1 - - [22/Jul/2023 02:40:41] \"POST /test-it-up HTTP/1.1\" 404 -\n",
      "127.0.0.1 - - [22/Jul/2023 02:42:46] \"POST /test-it-up HTTP/1.1\" 404 -\n",
      "127.0.0.1 - - [22/Jul/2023 02:42:47] \"POST /test-it-up HTTP/1.1\" 404 -\n"
     ]
    }
   ],
   "source": [
    "if __name__ == \"__main__\":\n",
    "    app.run()"
   ]
  },
  {
   "cell_type": "code",
   "execution_count": null,
   "id": "3fd38a5a-e478-4235-aecf-ad4801f48755",
   "metadata": {},
   "outputs": [],
   "source": []
  },
  {
   "cell_type": "code",
   "execution_count": null,
   "id": "a33ee684-10b2-44a1-b946-d3df8810a46e",
   "metadata": {},
   "outputs": [],
   "source": []
  }
 ],
 "metadata": {
  "kernelspec": {
   "display_name": "Python 3 (ipykernel)",
   "language": "python",
   "name": "python3"
  },
  "language_info": {
   "codemirror_mode": {
    "name": "ipython",
    "version": 3
   },
   "file_extension": ".py",
   "mimetype": "text/x-python",
   "name": "python",
   "nbconvert_exporter": "python",
   "pygments_lexer": "ipython3",
   "version": "3.10.11"
  }
 },
 "nbformat": 4,
 "nbformat_minor": 5
}
