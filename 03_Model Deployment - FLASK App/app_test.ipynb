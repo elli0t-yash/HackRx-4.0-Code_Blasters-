{
 "cells": [
  {
   "cell_type": "code",
   "execution_count": 1,
   "id": "f52fcd3b-b4d4-4be5-9d90-27d1f0dfd81b",
   "metadata": {},
   "outputs": [],
   "source": [
    "from flask import Flask, render_template, request, redirect, url_for\n",
    "import json"
   ]
  },
  {
   "cell_type": "code",
   "execution_count": 2,
   "id": "f416dea3-aa96-49f2-81ed-92579fd1078f",
   "metadata": {},
   "outputs": [],
   "source": [
    "import cv2"
   ]
  },
  {
   "cell_type": "code",
   "execution_count": 3,
   "id": "e79e6e16-f85b-4ebe-9b54-43eb6db79d06",
   "metadata": {},
   "outputs": [],
   "source": [
    "import tensorflow"
   ]
  },
  {
   "cell_type": "code",
   "execution_count": 6,
   "id": "ad483c2a-afc9-4186-b669-9c0de89063be",
   "metadata": {},
   "outputs": [
    {
     "ename": "ModuleNotFoundError",
     "evalue": "No module named 'seaborn'",
     "output_type": "error",
     "traceback": [
      "\u001b[1;31m---------------------------------------------------------------------------\u001b[0m",
      "\u001b[1;31mModuleNotFoundError\u001b[0m                       Traceback (most recent call last)",
      "Cell \u001b[1;32mIn[6], line 6\u001b[0m\n\u001b[0;32m      4\u001b[0m \u001b[38;5;28;01mimport\u001b[39;00m \u001b[38;5;21;01mtensorflow\u001b[39;00m \u001b[38;5;28;01mas\u001b[39;00m \u001b[38;5;21;01mtf\u001b[39;00m\n\u001b[0;32m      5\u001b[0m \u001b[38;5;28;01mimport\u001b[39;00m \u001b[38;5;21;01mmatplotlib\u001b[39;00m\u001b[38;5;21;01m.\u001b[39;00m\u001b[38;5;21;01mpyplot\u001b[39;00m \u001b[38;5;28;01mas\u001b[39;00m \u001b[38;5;21;01mplt\u001b[39;00m\n\u001b[1;32m----> 6\u001b[0m \u001b[38;5;28;01mimport\u001b[39;00m \u001b[38;5;21;01mseaborn\u001b[39;00m \u001b[38;5;28;01mas\u001b[39;00m \u001b[38;5;21;01msns\u001b[39;00m\n\u001b[0;32m      8\u001b[0m \u001b[38;5;28;01mfrom\u001b[39;00m \u001b[38;5;21;01mkeras\u001b[39;00m\u001b[38;5;21;01m.\u001b[39;00m\u001b[38;5;21;01mmodels\u001b[39;00m \u001b[38;5;28;01mimport\u001b[39;00m Sequential\n\u001b[0;32m      9\u001b[0m \u001b[38;5;28;01mfrom\u001b[39;00m \u001b[38;5;21;01mkeras\u001b[39;00m\u001b[38;5;21;01m.\u001b[39;00m\u001b[38;5;21;01mlayers\u001b[39;00m \u001b[38;5;28;01mimport\u001b[39;00m Conv2D, MaxPool2D, Flatten, Dense\n",
      "\u001b[1;31mModuleNotFoundError\u001b[0m: No module named 'seaborn'"
     ]
    }
   ],
   "source": [
    "import numpy as np \n",
    "import cv2\n",
    "import os \n",
    "import tensorflow as tf\n",
    "import matplotlib.pyplot as plt\n",
    "import seaborn as sns\n",
    "\n",
    "from keras.models import Sequential\n",
    "from keras.layers import Conv2D, MaxPool2D, Flatten, Dense\n",
    "from keras.metrics import Accuracy\n",
    "\n",
    "from keras.callbacks import ModelCheckpoint\n",
    "import json"
   ]
  },
  {
   "cell_type": "code",
   "execution_count": null,
   "id": "19ba97a1-2cd3-4e3d-9254-73c9f5104893",
   "metadata": {},
   "outputs": [],
   "source": [
    "import ngrok"
   ]
  },
  {
   "cell_type": "code",
   "execution_count": null,
   "id": "c1822caf-da8b-4300-b041-f3d8e5dc1860",
   "metadata": {},
   "outputs": [],
   "source": []
  },
  {
   "cell_type": "code",
   "execution_count": 4,
   "id": "e661b7c6-a33b-4978-81ea-e18ad7d76512",
   "metadata": {},
   "outputs": [],
   "source": [
    "# Defining constants\n",
    "IMG_WIDTH = 128\n",
    "IMG_HEIGHT = 128\n",
    "NUM_CHANNELS = 3   # 3 channels - coloured images \n",
    "NUM_CLASSES = 2    # 2 classes - cats & dogs\n",
    "BATCH_SIZE = 32\n",
    "EPOCHS = 50"
   ]
  },
  {
   "cell_type": "code",
   "execution_count": null,
   "id": "60659314-2818-4261-a010-199fd8003906",
   "metadata": {},
   "outputs": [],
   "source": []
  },
  {
   "cell_type": "code",
   "execution_count": 5,
   "id": "8e509120-4218-43a0-bad0-4a2417efd06a",
   "metadata": {},
   "outputs": [],
   "source": [
    "def load_image(img_path):\n",
    "    img = cv2.imread(img_path)\n",
    "    img = cv2.resize(img, (IMG_WIDTH, IMG_HEIGHT))\n",
    "    return img"
   ]
  },
  {
   "cell_type": "code",
   "execution_count": 6,
   "id": "ff13519d-8423-4e52-8e5e-49a42cca2cae",
   "metadata": {},
   "outputs": [],
   "source": [
    "def preprocess_data(img_data):\n",
    "    img_data = img_data.astype('float32')\n",
    "    img_data /= 255.0\n",
    "    return img_data"
   ]
  },
  {
   "cell_type": "code",
   "execution_count": 7,
   "id": "427453a5-2b0c-4a7f-9af9-133b31d0097c",
   "metadata": {},
   "outputs": [],
   "source": [
    "def predictions(img):\n",
    "    img = np.expand_dims(img, axis=0)\n",
    "    inputs = tf.cast(img, tf.float32)\n",
    "\n",
    "    conv_output = model(inputs, training=False)\n",
    "\n",
    "    #print(f'Conv_output: {conv_output}')\n",
    "    predictions = model.predict(inputs)\n",
    "    #print(f'Predictions: {predictions[0]}')\n",
    "    target_class = tf.argmax(predictions[0])\n",
    "    #print(f'Target Class: {target_class}')\n",
    "    predicted_class = int((target_class))\n",
    "    accu = predictions[:, target_class][0]\n",
    "    #print(f'Accurate (in %): {round(accu*100, 2)}%')\n",
    "    return predicted_class"
   ]
  },
  {
   "cell_type": "markdown",
   "id": "a643ed9e-ad2e-4fb4-b02e-0ddf56e3b59f",
   "metadata": {},
   "source": [
    "---"
   ]
  },
  {
   "cell_type": "code",
   "execution_count": 8,
   "id": "45bf6b96-90c0-4c49-8c5f-6e98a1e5096a",
   "metadata": {},
   "outputs": [],
   "source": [
    "# MODEL ARCHITECTURE:\n",
    "model = Sequential()\n",
    "\n",
    "# 1st Conv. Layer : 32 Filters of 3x3 size with i/p shape:(224,224,3) & Maximum pooling into size 2x2\n",
    "model.add(Conv2D(32, (3,3), activation='relu', input_shape=(IMG_WIDTH, IMG_HEIGHT, NUM_CHANNELS) ))\n",
    "model.add(MaxPool2D(pool_size=(2,2)))\n",
    "\n",
    "# 2nd Conv. Layer : 64 Filters of 3x3 size & Max. pooling into 2x2 size\n",
    "model.add(Conv2D(64, (3,3), activation='relu'))\n",
    "model.add(MaxPool2D(pool_size=(2,2)))\n",
    "\n",
    "# Flattening the o/p of conv layers to single vector\n",
    "model.add(Flatten())\n",
    "\n",
    "# Adding Dense layers (Can be added as required)\n",
    "model.add(Dense(64, activation='relu'))\n",
    "model.add(Dense(NUM_CLASSES, activation='softmax')) # final outpu layer containing two classes cats and dogs"
   ]
  },
  {
   "cell_type": "code",
   "execution_count": 9,
   "id": "bc5c1510-f453-463d-95bc-95a6ae32d70d",
   "metadata": {},
   "outputs": [
    {
     "name": "stdout",
     "output_type": "stream",
     "text": [
      "Model: \"sequential\"\n",
      "_________________________________________________________________\n",
      " Layer (type)                Output Shape              Param #   \n",
      "=================================================================\n",
      " conv2d (Conv2D)             (None, 126, 126, 32)      896       \n",
      "                                                                 \n",
      " max_pooling2d (MaxPooling2D  (None, 63, 63, 32)       0         \n",
      " )                                                               \n",
      "                                                                 \n",
      " conv2d_1 (Conv2D)           (None, 61, 61, 64)        18496     \n",
      "                                                                 \n",
      " max_pooling2d_1 (MaxPooling  (None, 30, 30, 64)       0         \n",
      " 2D)                                                             \n",
      "                                                                 \n",
      " flatten (Flatten)           (None, 57600)             0         \n",
      "                                                                 \n",
      " dense (Dense)               (None, 64)                3686464   \n",
      "                                                                 \n",
      " dense_1 (Dense)             (None, 2)                 130       \n",
      "                                                                 \n",
      "=================================================================\n",
      "Total params: 3,705,986\n",
      "Trainable params: 3,705,986\n",
      "Non-trainable params: 0\n",
      "_________________________________________________________________\n"
     ]
    }
   ],
   "source": [
    "model.summary()"
   ]
  },
  {
   "cell_type": "code",
   "execution_count": 10,
   "id": "e784e6df-8c1b-4563-a27a-7071eeeb90c9",
   "metadata": {},
   "outputs": [],
   "source": [
    "# COMPILING the model\n",
    "model.compile(optimizer='adam', loss='sparse_categorical_crossentropy', metrics=['accuracy'])"
   ]
  },
  {
   "cell_type": "markdown",
   "id": "55eb776f-8506-4a45-a067-172331a9a64c",
   "metadata": {},
   "source": [
    "---\n",
    "\n",
    "## LOADING TRAINED MODEL WEIGHTS:"
   ]
  },
  {
   "cell_type": "code",
   "execution_count": 12,
   "id": "7469108b-32a7-46d6-9bea-421860e7ccd1",
   "metadata": {},
   "outputs": [],
   "source": [
    "model.load_weights(\"model_chckpnt_woImanip.h5\")"
   ]
  },
  {
   "cell_type": "markdown",
   "id": "9bd0d75b-95e3-4c5c-b1e4-4042eb168cd4",
   "metadata": {},
   "source": [
    "--- \n",
    "## Testing:"
   ]
  },
  {
   "cell_type": "code",
   "execution_count": 13,
   "id": "cf344f23-4b20-4c9b-8854-77f0eef45cbe",
   "metadata": {},
   "outputs": [
    {
     "data": {
      "text/plain": [
       "'1_002.jpg'"
      ]
     },
     "execution_count": 13,
     "metadata": {},
     "output_type": "execute_result"
    }
   ],
   "source": [
    "os.listdir('dogs_1')[2]"
   ]
  },
  {
   "cell_type": "code",
   "execution_count": 14,
   "id": "8cf9d95b-5b77-4d4b-861b-1ddb1ad65970",
   "metadata": {},
   "outputs": [],
   "source": [
    "cat_img_path = os.path.join('cats_0', '0_044.jpg')\n",
    "dog_img_path = os.path.join('dogs_1', '1_002.jpg')"
   ]
  },
  {
   "cell_type": "code",
   "execution_count": 15,
   "id": "24b63705-0f9a-47c0-8653-d361c8406311",
   "metadata": {},
   "outputs": [],
   "source": [
    "cat_img = load_image(cat_img_path)\n",
    "dog_img = load_image(dog_img_path)"
   ]
  },
  {
   "cell_type": "code",
   "execution_count": 16,
   "id": "61d34c18-453e-4df5-a66c-a875b65c82eb",
   "metadata": {},
   "outputs": [],
   "source": [
    "cat_inp_data = preprocess_data(cat_img)\n",
    "dog_inp_data = preprocess_data(dog_img)"
   ]
  },
  {
   "cell_type": "code",
   "execution_count": 17,
   "id": "c4d99c30-3eb0-47be-a74e-695f6faefa89",
   "metadata": {},
   "outputs": [],
   "source": [
    "# Predictions"
   ]
  },
  {
   "cell_type": "code",
   "execution_count": 18,
   "id": "b77176a4-0a01-4856-aaca-dd1e90a2eca3",
   "metadata": {},
   "outputs": [
    {
     "name": "stdout",
     "output_type": "stream",
     "text": [
      "1/1 [==============================] - 8s 8s/step\n"
     ]
    },
    {
     "data": {
      "text/plain": [
       "0"
      ]
     },
     "execution_count": 18,
     "metadata": {},
     "output_type": "execute_result"
    }
   ],
   "source": [
    "predictions(cat_inp_data)"
   ]
  },
  {
   "cell_type": "code",
   "execution_count": 19,
   "id": "90bf32a6-f557-40aa-804c-ace017faef69",
   "metadata": {},
   "outputs": [
    {
     "name": "stdout",
     "output_type": "stream",
     "text": [
      "1/1 [==============================] - 0s 76ms/step\n"
     ]
    },
    {
     "data": {
      "text/plain": [
       "1"
      ]
     },
     "execution_count": 19,
     "metadata": {},
     "output_type": "execute_result"
    }
   ],
   "source": [
    "predictions(dog_inp_data)"
   ]
  },
  {
   "cell_type": "markdown",
   "id": "11177e48-ff63-4a06-b411-7545037328a2",
   "metadata": {},
   "source": [
    "model working..."
   ]
  },
  {
   "cell_type": "markdown",
   "id": "244a2d8c-9583-4df6-a5b6-542ac562c4a2",
   "metadata": {},
   "source": [
    "---"
   ]
  },
  {
   "cell_type": "markdown",
   "id": "9ca8708e-70ed-4d64-9ea5-793dd78de902",
   "metadata": {},
   "source": [
    "## Web scraping"
   ]
  },
  {
   "cell_type": "code",
   "execution_count": 3,
   "id": "4c64405a-9736-4ba6-abe1-396efd49205c",
   "metadata": {},
   "outputs": [],
   "source": [
    "# import selenium\n",
    "# from selenium import webdriver\n",
    "# from selenium.webdriver.common.by import By\n",
    "# import time\n",
    "# import cv2\n",
    "# from bs4 import BeautifulSoup\n",
    "# from fake_useragent import UserAgent\n",
    "# from webdriver_manager.chrome import ChromeDriverManager\n",
    "# import tldextract\n",
    "# import os\n",
    "\n",
    "# ua = UserAgent()\n",
    "\n",
    "# opt = webdriver.ChromeOptions()\n",
    "# opt.add_argument('user-agent={}'.format(ua.random))\n",
    "\n",
    "# def fetch_screenshot(url,base_url, counter, name, mobile_view=False):\n",
    "#     driver = webdriver.Chrome(options=opt)\n",
    "#     view = \"desktop\"\n",
    "#     if mobile_view:\n",
    "#         driver.set_window_size(width=390, height=844)\n",
    "#         view = \"mobile\"\n",
    "#     else:\n",
    "#         driver.set_window_size(1920, 1080)\n",
    "#         view = \"desktop\"\n",
    "        \n",
    "#     if url[:8] == 'https://':\n",
    "#         driver.get(url)\n",
    "#     else:\n",
    "#         driver.get(base_url+url)\n",
    "        \n",
    "#     print(base_url)\n",
    "#     print(url)\n",
    "#     time.sleep(1.5)\n",
    "#     # allow_cookies(driver)\n",
    "#     screenShot = driver.save_screenshot(os.path.join(os.getcwd(), 'dataset1', \"{}-ss-{}-{}.png\".format(view,name, counter)))\n",
    "#     # img = cv2.imread(\"screenshot.png\")\n",
    "#     print(\"\\nSS:::::\", screenShot)\n",
    "#     driver.close()\n",
    "    \n",
    "#     return screenShot\n",
    "#     # return img\n",
    "\n",
    "\n",
    "# def get_all_paths(url):\n",
    "#     driver = webdriver.Chrome(options=opt)\n",
    "#     # driver = webdriver.Chrome()\n",
    "#     driver.get(url)\n",
    "#     time.sleep(3)\n",
    "#         # allow_cookies(driver)\n",
    "    \n",
    "#     paths = []\n",
    "    \n",
    "#     html = driver.page_source\n",
    "#     soup = BeautifulSoup(html, 'html.parser')\n",
    "#     for link in soup.find_all('a', href=True):\n",
    "#         path = link.get('href')\n",
    "#             # path = 'https://{}'.format(path)\n",
    "#             # if path and not path.startswith('javascript:') and not path.startswith('#'):\n",
    "#         if driver.find_element(By.XPATH,'//*[@href=\"{}\"]'.format(path)):\n",
    "#             # if driver.find_element_by_link_text(path):\n",
    "#             # links = driver.find_elements_by_partial_link_text(path)\n",
    "#             # if len(links) == 1:\n",
    "#             if url in path or path[0] == '/':\n",
    "\n",
    "#                 print(path)\n",
    "#                 paths.append(path)\n",
    "\n",
    "# #                paths.append(path)\n",
    "#     driver.close()\n",
    "#     return paths\n",
    "\n",
    "# # def allow_cookies(driver):\n",
    "# #     # accept_cookies = driver.find_element(By.XPATH, \"//button[@class='iubenda-cs-accept-btn']\")\n",
    "# #     # accept_cookies.click()\n",
    "# #     time.sleep(2)\n",
    "\n",
    "\n",
    "# if __name__ == \"__main__\":\n",
    "    \n",
    "#     # url = \"https://tradingview.com/\"\n",
    "#     # url = \"https://www.bajajfinserv.in/\"\n",
    "#     url = 'https://www.muthootfincorp.com/'\n",
    "#     # url = \"https://www.frog.co/\"\n",
    "#     # url = \"https://www.momentumdesignlab.com/\"\n",
    "#     base_url = url[:-1]\n",
    "#     # name = 'FROG'\n",
    "#     name = 'MOMENTUM'\n",
    "    \n",
    "#     paths = get_all_paths(url)\n",
    "#     direc = os.getcwd()\n",
    "#     i = 0\n",
    "#     for path in paths:\n",
    "#         screenShot = fetch_screenshot(path, base_url, i, name)\n",
    "#         screenShot = fetch_screenshot(path, base_url, i,name, True)\n",
    "#         # cv2.imwrite(os.path.join(os.getcwd(), 'TEMP idea on 11', 'test_ss_fetched', 'screenshot_{}-{}'.format(name, i)), screenShot)\n",
    "#         i += 1\n",
    "\n",
    "from selenium import webdriver\n",
    "from selenium.webdriver.common.by import By\n",
    "from PIL import Image\n",
    "import io\n",
    "import numpy as np\n",
    "\n",
    "\n",
    "def fetch_test(url):\n",
    "    opt = webdriver.ChromeOptions()\n",
    "\n",
    "    # Initialize Selenium Driver\n",
    "    driver = webdriver.Chrome(options=opt)\n",
    "\n",
    "    # Open the URL\n",
    "    driver.get(url)\n",
    "\n",
    "    # Take screenshot and get the binary data\n",
    "    screenshot = driver.get_screenshot_as_png()\n",
    "\n",
    "    # Close the driver\n",
    "    driver.quit()\n",
    "\n",
    "    # Use BytesIO to create a file-like object in memory\n",
    "    screenshot_stream = io.BytesIO(screenshot)\n",
    "\n",
    "    # Open the stream as an image with PIL\n",
    "    image = Image.open(screenshot_stream)\n",
    "\n",
    "    # Convert image to NumPy array\n",
    "    image_np = np.array(image)\n",
    "\n",
    "    # image_list = image_np.tolist()\n",
    "\n",
    "    return image_np\n"
   ]
  },
  {
   "cell_type": "code",
   "execution_count": null,
   "id": "cc05d5a5-a29f-4e8c-922a-e0d58d458f10",
   "metadata": {},
   "outputs": [],
   "source": []
  },
  {
   "cell_type": "markdown",
   "id": "4288c4cd-e039-4f28-bfba-22d732c2f86d",
   "metadata": {},
   "source": [
    "# Building Flask APP:"
   ]
  },
  {
   "cell_type": "code",
   "execution_count": 4,
   "id": "f79d30a2-ddbf-435d-bd15-87ed73e777b1",
   "metadata": {},
   "outputs": [],
   "source": [
    "app = Flask(__name__)\n",
    "\n",
    "\n",
    "\n",
    "@app.route('/')\n",
    "def hello():\n",
    "    print('http://127.0.0.1:5000/')\n",
    "    return \"server running...\"\n",
    "\n",
    "\n",
    "@app.route('/ping')\n",
    "def pingPong():\n",
    "    data = {'mg': \"pong\"}\n",
    "    return data\n",
    "\n",
    "@app.route('/predict', methods=['POST'])\n",
    "def cat_dog_pred():\n",
    "    data = json.loads(request.get_json())\n",
    "    print(data, \"....Image recieved...\\n\")\n",
    "    image = data['image']\n",
    "    image = cv2.resize(img, (IMG_WIDTH, IMG_HEIGHT))\n",
    "    \n",
    "    img_data = preprocess_data(image)\n",
    "    output = predictions(img_data)\n",
    "\n",
    "    return json.dumps({'predicted_class' : output})\n",
    "\n",
    "    \n",
    "    \n",
    "@app.route('/test', methods=['POST'])\n",
    "def testing():\n",
    "    data = json.loads(request.get_data())\n",
    "    print(data, '\\n data recieved... pinged \\n')\n",
    "    return json.dumps({'message' : 0, 'hey': 1})\n",
    "\n",
    "@app.route('/ss', methods=['POST'])\n",
    "def ss():\n",
    "    byte_encode = request.get_data()\n",
    "    print(byte_encode)\n",
    "    url = byte_encode.decode('utf-8')\n",
    "    print(url)\n",
    "    data = fetch_test(url)\n",
    "    print(list(data.shape))\n",
    "    return json.dumps({\n",
    "        \"Rating\" : 0.75\n",
    "    })\n",
    "    "
   ]
  },
  {
   "cell_type": "code",
   "execution_count": null,
   "id": "a2bc6f5b-0c0a-4b1e-bb60-359dfd0cc417",
   "metadata": {},
   "outputs": [
    {
     "name": "stdout",
     "output_type": "stream",
     "text": [
      " * Serving Flask app '__main__'\n",
      " * Debug mode: off\n"
     ]
    },
    {
     "name": "stderr",
     "output_type": "stream",
     "text": [
      "WARNING: This is a development server. Do not use it in a production deployment. Use a production WSGI server instead.\n",
      " * Running on http://127.0.0.1:5000\n",
      "Press CTRL+C to quit\n"
     ]
    },
    {
     "name": "stdout",
     "output_type": "stream",
     "text": [
      "b'https://www.bajajfinservmarkets.in/partners/bajaj-finance-limited.html'\n",
      "https://www.bajajfinservmarkets.in/partners/bajaj-finance-limited.html\n"
     ]
    },
    {
     "name": "stderr",
     "output_type": "stream",
     "text": [
      "Error getting version of chromedriver 115. Retrying with chromedriver 114 (attempt 1/5)\n",
      "127.0.0.1 - - [21/Jul/2023 23:34:36] \"POST /ss HTTP/1.1\" 200 -\n"
     ]
    },
    {
     "name": "stdout",
     "output_type": "stream",
     "text": [
      "[884, 1295, 4]\n"
     ]
    },
    {
     "name": "stderr",
     "output_type": "stream",
     "text": [
      "127.0.0.1 - - [22/Jul/2023 00:34:38] \"POST /test-it-up HTTP/1.1\" 404 -\n",
      "127.0.0.1 - - [22/Jul/2023 00:34:54] \"GET / HTTP/1.1\" 200 -\n"
     ]
    },
    {
     "name": "stdout",
     "output_type": "stream",
     "text": [
      "http://127.0.0.1:5000/\n"
     ]
    },
    {
     "name": "stderr",
     "output_type": "stream",
     "text": [
      "127.0.0.1 - - [22/Jul/2023 00:35:05] \"GET /test-it-up HTTP/1.1\" 404 -\n",
      "127.0.0.1 - - [22/Jul/2023 00:36:24] \"POST /test-it-up HTTP/1.1\" 404 -\n",
      "127.0.0.1 - - [22/Jul/2023 00:36:25] \"POST /test-it-up HTTP/1.1\" 404 -\n",
      "127.0.0.1 - - [22/Jul/2023 00:36:26] \"POST /test-it-up HTTP/1.1\" 404 -\n",
      "127.0.0.1 - - [22/Jul/2023 00:36:26] \"POST /test-it-up HTTP/1.1\" 404 -\n",
      "127.0.0.1 - - [22/Jul/2023 00:36:26] \"POST /test-it-up HTTP/1.1\" 404 -\n",
      "127.0.0.1 - - [22/Jul/2023 00:36:26] \"POST /test-it-up HTTP/1.1\" 404 -\n",
      "127.0.0.1 - - [22/Jul/2023 00:36:27] \"POST /test-it-up HTTP/1.1\" 404 -\n",
      "127.0.0.1 - - [22/Jul/2023 00:36:27] \"POST /test-it-up HTTP/1.1\" 404 -\n",
      "127.0.0.1 - - [22/Jul/2023 00:36:27] \"POST /test-it-up HTTP/1.1\" 404 -\n",
      "127.0.0.1 - - [22/Jul/2023 00:36:27] \"POST /test-it-up HTTP/1.1\" 404 -\n",
      "127.0.0.1 - - [22/Jul/2023 00:36:27] \"POST /test-it-up HTTP/1.1\" 404 -\n",
      "127.0.0.1 - - [22/Jul/2023 00:36:28] \"POST /test-it-up HTTP/1.1\" 404 -\n",
      "127.0.0.1 - - [22/Jul/2023 00:36:28] \"POST /test-it-up HTTP/1.1\" 404 -\n",
      "127.0.0.1 - - [22/Jul/2023 00:36:28] \"POST /test-it-up HTTP/1.1\" 404 -\n",
      "127.0.0.1 - - [22/Jul/2023 00:36:28] \"POST /test-it-up HTTP/1.1\" 404 -\n",
      "127.0.0.1 - - [22/Jul/2023 00:36:28] \"POST /test-it-up HTTP/1.1\" 404 -\n",
      "127.0.0.1 - - [22/Jul/2023 00:36:29] \"POST /test-it-up HTTP/1.1\" 404 -\n",
      "127.0.0.1 - - [22/Jul/2023 00:36:29] \"POST /test-it-up HTTP/1.1\" 404 -\n",
      "127.0.0.1 - - [22/Jul/2023 00:36:29] \"POST /test-it-up HTTP/1.1\" 404 -\n",
      "127.0.0.1 - - [22/Jul/2023 00:36:30] \"POST /test-it-up HTTP/1.1\" 404 -\n",
      "127.0.0.1 - - [22/Jul/2023 00:36:30] \"POST /test-it-up HTTP/1.1\" 404 -\n",
      "127.0.0.1 - - [22/Jul/2023 00:36:30] \"POST /test-it-up HTTP/1.1\" 404 -\n",
      "127.0.0.1 - - [22/Jul/2023 00:36:30] \"POST /test-it-up HTTP/1.1\" 404 -\n",
      "127.0.0.1 - - [22/Jul/2023 00:36:30] \"POST /test-it-up HTTP/1.1\" 404 -\n",
      "127.0.0.1 - - [22/Jul/2023 00:36:31] \"POST /test-it-up HTTP/1.1\" 404 -\n",
      "127.0.0.1 - - [22/Jul/2023 00:36:31] \"POST /test-it-up HTTP/1.1\" 404 -\n",
      "127.0.0.1 - - [22/Jul/2023 00:36:31] \"POST /test-it-up HTTP/1.1\" 404 -\n",
      "127.0.0.1 - - [22/Jul/2023 00:36:31] \"POST /test-it-up HTTP/1.1\" 404 -\n",
      "127.0.0.1 - - [22/Jul/2023 00:36:32] \"POST /test-it-up HTTP/1.1\" 404 -\n",
      "127.0.0.1 - - [22/Jul/2023 00:37:43] \"POST /ui_tester HTTP/1.1\" 404 -\n",
      "127.0.0.1 - - [22/Jul/2023 00:37:44] \"POST /ui_tester HTTP/1.1\" 404 -\n",
      "127.0.0.1 - - [22/Jul/2023 00:37:44] \"POST /ui_tester HTTP/1.1\" 404 -\n",
      "127.0.0.1 - - [22/Jul/2023 00:37:44] \"POST /ui_tester HTTP/1.1\" 404 -\n",
      "127.0.0.1 - - [22/Jul/2023 00:37:44] \"POST /ui_tester HTTP/1.1\" 404 -\n",
      "127.0.0.1 - - [22/Jul/2023 00:37:44] \"POST /ui_tester HTTP/1.1\" 404 -\n",
      "127.0.0.1 - - [22/Jul/2023 00:37:44] \"POST /ui_tester HTTP/1.1\" 404 -\n",
      "127.0.0.1 - - [22/Jul/2023 00:37:48] \"POST /ui_tester HTTP/1.1\" 404 -\n",
      "127.0.0.1 - - [22/Jul/2023 00:37:54] code 400, message Bad request version ('À\\x13À')\n",
      "127.0.0.1 - - [22/Jul/2023 00:37:54] \"\\x16\\x03\\x01\\x00á\\x01\\x00\\x00Ý\\x03\\x03¶¨!\\x8bUÂ\\x995Æ§\"\\x9eÏæÎGiW[\\x00\\x96Ö\\x97OSº&\\x96\\x7f­xq \\x0d¢\\x90£H*¸vî\\x06\\x1fnzt\\x96\\x95'5»èÞAni\\x07­¤D\\x93h¬D\\x00$\\x13\\x03\\x13\\x01\\x13\\x02À/À+À0À,Ì©Ì¨À\\x09À\\x13À\" HTTPStatus.BAD_REQUEST -\n",
      "127.0.0.1 - - [22/Jul/2023 00:37:55] code 400, message Bad request version ('À\\x13À')\n",
      "127.0.0.1 - - [22/Jul/2023 00:37:55] \"\\x16\\x03\\x01\\x00á\\x01\\x00\\x00Ý\\x03\\x03ÜA÷\\x8f>î!ÅÔD­ÿ9ëí-ën×âOÿ\\x8b1g¼~µÃ46Û \\x8a2®â\\x9e\\x8dy\\x91â[X\\\\\\x11E\\x82¥9\\x020ÏÚ\\x8aÂ\\x8eë'Ý²Õy¾b\\x00$\\x13\\x03\\x13\\x01\\x13\\x02À/À+À0À,Ì©Ì¨À\\x09À\\x13À\" HTTPStatus.BAD_REQUEST -\n",
      "127.0.0.1 - - [22/Jul/2023 00:37:58] \"POST /ui_tester HTTP/1.1\" 404 -\n",
      "127.0.0.1 - - [22/Jul/2023 00:38:47] \"POST /ui_tester HTTP/1.1\" 404 -\n",
      "127.0.0.1 - - [22/Jul/2023 00:38:48] \"POST /ui_tester HTTP/1.1\" 404 -\n",
      "127.0.0.1 - - [22/Jul/2023 00:38:48] \"POST /ui_tester HTTP/1.1\" 404 -\n",
      "127.0.0.1 - - [22/Jul/2023 00:38:49] \"POST /ui_tester HTTP/1.1\" 404 -\n",
      "127.0.0.1 - - [22/Jul/2023 00:38:49] \"POST /ui_tester HTTP/1.1\" 404 -\n",
      "127.0.0.1 - - [22/Jul/2023 00:38:49] \"POST /ui_tester HTTP/1.1\" 404 -\n"
     ]
    }
   ],
   "source": [
    "if __name__ == '__main__':\n",
    "    # ngrok.connect(9000, authtoken_from_env=True)\n",
    "    # print(tunnel.url())\n",
    "    app.run()"
   ]
  },
  {
   "cell_type": "code",
   "execution_count": null,
   "id": "267d3b36-b28e-453e-a8ab-a5c05ffe550b",
   "metadata": {},
   "outputs": [],
   "source": []
  },
  {
   "cell_type": "code",
   "execution_count": null,
   "id": "847b1fe7-2225-460f-8f71-1a711a7a7a98",
   "metadata": {},
   "outputs": [],
   "source": []
  }
 ],
 "metadata": {
  "kernelspec": {
   "display_name": "Python 3 (ipykernel)",
   "language": "python",
   "name": "python3"
  },
  "language_info": {
   "codemirror_mode": {
    "name": "ipython",
    "version": 3
   },
   "file_extension": ".py",
   "mimetype": "text/x-python",
   "name": "python",
   "nbconvert_exporter": "python",
   "pygments_lexer": "ipython3",
   "version": "3.10.11"
  }
 },
 "nbformat": 4,
 "nbformat_minor": 5
}
